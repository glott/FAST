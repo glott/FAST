{
 "cells": [
  {
   "cell_type": "code",
   "execution_count": null,
   "id": "a24893e4",
   "metadata": {},
   "outputs": [],
   "source": [
    "# IMPORTS AND MODULE INSTALLATION\n",
    "import imp, os, subprocess, sys, time, random, pathlib, csv, re\n",
    "try:\n",
    "    imp.find_module('selenium')\n",
    "    imp.find_module('webdriver_manager')\n",
    "except ImportError:\n",
    "    subprocess.check_call([sys.executable, '-m', 'pip', \n",
    "                           'install', 'selenium']);\n",
    "    subprocess.check_call([sys.executable, '-m', 'pip', \n",
    "                           'install', 'webdriver_manager']);\n",
    "    \n",
    "from selenium import webdriver\n",
    "from webdriver_manager.firefox import GeckoDriverManager\n",
    "\n",
    "downloads_folder = str(pathlib.Path.home() / 'Downloads')\n",
    "\n",
    "def read_config_value(key):\n",
    "    config = open(downloads_folder + '\\\\FAST.txt', 'r').read()\n",
    "    if key + '=' in config:\n",
    "        return config.split(key + '=')[1].split('\\n')[0]\n",
    "    return 'NULL'\n",
    "\n",
    "def between(text, start, end):\n",
    "    try: \n",
    "        return text.split(start)[1].split(end)[0]\n",
    "    except Exception:\n",
    "        return ''"
   ]
  },
  {
   "cell_type": "code",
   "execution_count": null,
   "id": "da08058b",
   "metadata": {},
   "outputs": [],
   "source": [
    "%%capture\n",
    "driver = webdriver.Firefox(executable_path=GeckoDriverManager().install());\n",
    "driver.minimize_window()"
   ]
  },
  {
   "cell_type": "code",
   "execution_count": null,
   "id": "388b9a26",
   "metadata": {
    "scrolled": false
   },
   "outputs": [],
   "source": [
    "# FLIGHTAWARE AIRPORT PAGE\n",
    "url = 'https://flightaware.com/live/airport/' \\\n",
    "    + read_config_value('AIRPORT') + '/scheduled'\n",
    "\n",
    "driver.get(url)\n",
    "\n",
    "driver.find_element('name', 'flightaware_username') \\\n",
    "    .send_keys(read_config_value('FLIGHTAWARE_USER'))\n",
    "driver.find_element('name', 'flightaware_password') \\\n",
    "    .send_keys(read_config_value('FLIGHTAWARE_PASS'))\n",
    "driver.find_element('id', 'loginButton').click()\n",
    "time.sleep(5)\n",
    "\n",
    "plane_urls = driver.find_elements('xpath', '//a[@href]')\n",
    "filtered_urls = list()\n",
    "for plane_url in plane_urls:\n",
    "    href = plane_url.get_attribute('href')\n",
    "    if 'live/flight/id/' in href:\n",
    "        filtered_urls.append(href)"
   ]
  },
  {
   "cell_type": "code",
   "execution_count": null,
   "id": "52494c11",
   "metadata": {
    "scrolled": false
   },
   "outputs": [],
   "source": [
    "# CREATION AND OUTPUT OF INDIVIDUAL PLANE DATA\n",
    "s = 'ident,type,dep,arr,alt,speed,route,spawn-delay,gate,' \\\n",
    "    + 'push-taxiway,taxi-route'\n",
    "init_spawn_delay = 0\n",
    "\n",
    "def get_plane_info(source):\n",
    "    temp_text = source[source.rindex(r'\"route\"') - 3000:\n",
    "                       source.rindex(r'\"route\"') + 1500]\n",
    "    global init_spawn_delay\n",
    "\n",
    "    ident = between(temp_text, r'\"displayIdent\":\"', r'\"')\n",
    "    flight_plan = between(temp_text, r'\"flightPlan\":', r'\"fuelBurn\"')\n",
    "    alt = between(flight_plan, r'\"altitude\":', r',') + '00'\n",
    "    speed = between(flight_plan, r'\"speed\":', r',')\n",
    "    route = between(flight_plan, r'\"route\":\"', r'\",').replace(',', '')\n",
    "    delay = int(between(flight_plan, r'departure\":', r',\"ete\"'))\n",
    "    spawn_delay = 0 if init_spawn_delay == 0 else delay - init_spawn_delay\n",
    "    dep = between(source, r'name=\"origin\" content=\"', r'\"')\n",
    "    arr = between(source, r'name=\"destination\" content=\"', r'\"')\n",
    "    acft = between(source, r'name=\"aircrafttype\" content=\"', r'\"')\n",
    "    gate = 'UNKN' if not r'\",\"gate\":\"' in source \\\n",
    "        else between(source, dep + r'\",\"gate\":\"', r'\"')\n",
    "    \n",
    "    if init_spawn_delay == 0: init_spawn_delay = delay\n",
    "\n",
    "    return ','.join([ident, acft, dep, arr, alt, speed, route, \\\n",
    "                     str(spawn_delay), gate, '', ''])\n",
    "\n",
    "for filtered_url in filtered_urls:\n",
    "    driver.get(filtered_url)\n",
    "    plane = get_plane_info(driver.page_source)\n",
    "    s += '\\n' + plane\n",
    "    print(plane.split(',')[0] + '\\t' + plane.split(',')[2] + '-' \\\n",
    "          + plane.split(',')[3])\n",
    "    time.sleep(random.uniform(1, 5))\n",
    "    \n",
    "with open(downloads_folder + '\\\\' + s.split('\\n')[1].split(',')[2][1:] \\\n",
    "          + '_DEP_' + time.strftime('%y%m%d-%H%M', time.gmtime()) \\\n",
    "          + '.csv', 'w') as f:\n",
    "    f.write(s)"
   ]
  }
 ],
 "metadata": {
  "kernelspec": {
   "display_name": "Python 3 (ipykernel)",
   "language": "python",
   "name": "python3"
  },
  "language_info": {
   "codemirror_mode": {
    "name": "ipython",
    "version": 3
   },
   "file_extension": ".py",
   "mimetype": "text/x-python",
   "name": "python",
   "nbconvert_exporter": "python",
   "pygments_lexer": "ipython3",
   "version": "3.7.4"
  }
 },
 "nbformat": 4,
 "nbformat_minor": 5
}
